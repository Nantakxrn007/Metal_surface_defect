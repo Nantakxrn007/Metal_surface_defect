{
 "cells": [
  {
   "cell_type": "markdown",
   "id": "fdf6d6c9",
   "metadata": {},
   "source": [
    "## Import lib."
   ]
  },
  {
   "cell_type": "code",
   "execution_count": 2,
   "id": "68b77912",
   "metadata": {},
   "outputs": [],
   "source": [
    "import os\n",
    "import zipfile\n",
    "\n",
    "\n",
    "import cv2\n",
    "import matplotlib.pyplot as plt \n",
    "import numpy as np \n",
    "import torch \n",
    "import torch.nn as nn "
   ]
  },
  {
   "cell_type": "code",
   "execution_count": 17,
   "id": "6fdbceea",
   "metadata": {},
   "outputs": [],
   "source": [
    "with open(\".env\") as f:\n",
    "    for line in f:\n",
    "        key, val = line.strip().split(\"=\")\n",
    "        os.environ[key] = val\n",
    "\n",
    "# print(\"Kaggle user:\", os.environ['KAGGLE_USERNAME'])  \n",
    "# print(\"Kaggle user:\", os.environ['KAGGLE_KEY'])  "
   ]
  },
  {
   "cell_type": "code",
   "execution_count": null,
   "id": "01751a9e",
   "metadata": {},
   "outputs": [],
   "source": []
  }
 ],
 "metadata": {
  "kernelspec": {
   "display_name": "object",
   "language": "python",
   "name": "python3"
  },
  "language_info": {
   "codemirror_mode": {
    "name": "ipython",
    "version": 3
   },
   "file_extension": ".py",
   "mimetype": "text/x-python",
   "name": "python",
   "nbconvert_exporter": "python",
   "pygments_lexer": "ipython3",
   "version": "3.10.18"
  }
 },
 "nbformat": 4,
 "nbformat_minor": 5
}
