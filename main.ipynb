{
 "cells": [
  {
   "cell_type": "markdown",
   "id": "fdf6d6c9",
   "metadata": {},
   "source": [
    "## Import lib."
   ]
  },
  {
   "cell_type": "code",
   "execution_count": 2,
   "id": "68b77912",
   "metadata": {},
   "outputs": [],
   "source": [
    "import os\n",
    "import zipfile\n",
    "\n",
    "\n",
    "import cv2\n",
    "import matplotlib.pyplot as plt \n",
    "import numpy as np \n",
    "import torch \n",
    "import torch.nn as nn "
   ]
  },
  {
   "cell_type": "markdown",
   "id": "3df7b12c",
   "metadata": {},
   "source": [
    "## Import data"
   ]
  },
  {
   "cell_type": "code",
   "execution_count": 17,
   "id": "6fdbceea",
   "metadata": {},
   "outputs": [],
   "source": [
    "with open(\".env\") as f:\n",
    "    for line in f:\n",
    "        key, val = line.strip().split(\"=\")\n",
    "        os.environ[key] = val\n",
    "\n",
    "# print(\"Kaggle user:\", os.environ['KAGGLE_USERNAME'])  \n",
    "# print(\"Kaggle user:\", os.environ['KAGGLE_KEY'])  "
   ]
  },
  {
   "cell_type": "code",
   "execution_count": 18,
   "id": "01751a9e",
   "metadata": {},
   "outputs": [
    {
     "name": "stdout",
     "output_type": "stream",
     "text": [
      "Dataset URL: https://www.kaggle.com/datasets/fantacher/neu-metal-surface-defects-data\n",
      "License(s): other\n",
      "Downloading neu-metal-surface-defects-data.zip to d:\\Metal_surface_defect\n",
      "\n"
     ]
    },
    {
     "name": "stderr",
     "output_type": "stream",
     "text": [
      "\n",
      "  0%|          | 0.00/57.4M [00:00<?, ?B/s]\n",
      "100%|██████████| 57.4M/57.4M [00:00<00:00, 1.55GB/s]\n"
     ]
    }
   ],
   "source": [
    "!kaggle datasets download -d fantacher/neu-metal-surface-defects-data"
   ]
  },
  {
   "cell_type": "code",
   "execution_count": 19,
   "id": "a3f7a672",
   "metadata": {},
   "outputs": [],
   "source": [
    "with zipfile.ZipFile(\"neu-metal-surface-defects-data.zip\", \"r\") as zip_ref:\n",
    "    zip_ref.extractall(\"neu_defects\")"
   ]
  },
  {
   "cell_type": "code",
   "execution_count": null,
   "id": "0636d3d8",
   "metadata": {},
   "outputs": [],
   "source": []
  },
  {
   "cell_type": "code",
   "execution_count": null,
   "id": "1199b00a",
   "metadata": {},
   "outputs": [],
   "source": []
  }
 ],
 "metadata": {
  "kernelspec": {
   "display_name": "object",
   "language": "python",
   "name": "python3"
  },
  "language_info": {
   "codemirror_mode": {
    "name": "ipython",
    "version": 3
   },
   "file_extension": ".py",
   "mimetype": "text/x-python",
   "name": "python",
   "nbconvert_exporter": "python",
   "pygments_lexer": "ipython3",
   "version": "3.10.18"
  }
 },
 "nbformat": 4,
 "nbformat_minor": 5
}
